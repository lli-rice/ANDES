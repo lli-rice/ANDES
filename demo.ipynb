{
 "cells": [
  {
   "cell_type": "code",
   "execution_count": 42,
   "metadata": {
    "tags": []
   },
   "outputs": [],
   "source": [
    "import numpy as np\n",
    "import pandas as pd\n",
    "from functools import partial\n",
    "from multiprocessing import Pool\n",
    "\n",
    "from collections import defaultdict\n",
    "from sklearn import metrics\n",
    "\n",
    "import src.load_data as ld\n",
    "import src.set_analysis_func as func\n",
    "import src.expression_analysis_func as expression_analysis_func\n",
    "\n"
   ]
  },
  {
   "cell_type": "code",
   "execution_count": 2,
   "metadata": {
    "tags": []
   },
   "outputs": [],
   "source": [
    "# load embedding\n",
    "node_vectors = np.loadtxt(\n",
    "    './data/embedding/node2vec_consensus.csv', delimiter=',')\n",
    "node_list = []\n",
    "with open('./data/embedding/consensus_node.txt', 'r') as f:\n",
    "    for line in f:\n",
    "        node_list.append(line.strip())\n",
    "        \n",
    "S = metrics.pairwise.cosine_similarity(node_vectors, node_vectors)"
   ]
  },
  {
   "cell_type": "code",
   "execution_count": 3,
   "metadata": {
    "tags": []
   },
   "outputs": [],
   "source": [
    "# create gene to embedding id mapping\n",
    "g_node2index = {j:i for i,j in enumerate(node_list)}\n",
    "g_index2node = {i:j for i,j in enumerate(node_list)}\n",
    "g_node2index = defaultdict(lambda:-1, g_node2index)"
   ]
  },
  {
   "cell_type": "code",
   "execution_count": 4,
   "metadata": {
    "tags": []
   },
   "outputs": [],
   "source": [
    "# load gene set data\n",
    "GO_data = ld.load_gmt(\n",
    "    './data/gene_sets/hsa_experimental_eval_BP_propagated.gmt')\n",
    "\n",
    "GO2indices = ld.term2indexes(\n",
    "    GO_data, g_node2index, upper=300, lower=10)"
   ]
  },
  {
   "cell_type": "code",
   "execution_count": 5,
   "metadata": {
    "tags": []
   },
   "outputs": [],
   "source": [
    "# generate background gene list\n",
    "GO_all_genes = set()\n",
    "for x in GO_data:\n",
    "    GO_all_genes = GO_all_genes.union(GO_data[x])\n",
    "    \n",
    "GO_all_genes = GO_all_genes.intersection(node_list)\n",
    "GO_all_indices = [g_node2index[x] for x in GO_all_genes]"
   ]
  },
  {
   "cell_type": "code",
   "execution_count": 6,
   "metadata": {
    "tags": []
   },
   "outputs": [],
   "source": [
    "f = partial(func.andes, matrix=S, g1_term2index=GO2indices, \n",
    "            g2_term2index=GO2indices, g1_population=GO_all_indices, \n",
    "            g2_population=GO_all_indices)"
   ]
  },
  {
   "cell_type": "code",
   "execution_count": 7,
   "metadata": {
    "tags": []
   },
   "outputs": [
    {
     "data": {
      "text/plain": [
       "(0.3675551337770534, -0.05241531340098376)"
      ]
     },
     "execution_count": 7,
     "metadata": {},
     "output_type": "execute_result"
    }
   ],
   "source": [
    "# return ANDES raw and corrected score\n",
    "f(('GO:0043648', 'GO:0006805'))"
   ]
  },
  {
   "cell_type": "code",
   "execution_count": null,
   "metadata": {},
   "outputs": [],
   "source": []
  },
  {
   "cell_type": "markdown",
   "metadata": {},
   "source": [
    "## ANDES as GSEA"
   ]
  },
  {
   "cell_type": "code",
   "execution_count": 6,
   "metadata": {
    "tags": []
   },
   "outputs": [],
   "source": [
    "#load ranked list generated from gene expression data\n",
    "ranked_list = pd.read_csv('./data/expression/GSE3467_rank.txt',\n",
    "                          sep='\\t', index_col=0, header=None)\n",
    "ranked_list = [str(y) for y in ranked_list.index]\n",
    "ranked_list = [g_node2index[y] for y in ranked_list if y in node_list]"
   ]
  },
  {
   "cell_type": "code",
   "execution_count": 8,
   "metadata": {
    "tags": []
   },
   "outputs": [],
   "source": [
    "#directly load gene expression data\n",
    "data = pd.read_csv('./data/expression/GSE3467.txt', skiprows=1, sep='\\t')\n",
    "condition = open('./data/expression/GSE3467.txt', 'r').readline().strip().split('\\t')\n",
    "ranked_list = expression_analysis_func.expression_data_to_ranked_list(data, condition)\n",
    "ranked_list = [g_node2index[y] for y in ranked_list if y in node_list]"
   ]
  },
  {
   "cell_type": "code",
   "execution_count": 10,
   "metadata": {
    "tags": []
   },
   "outputs": [],
   "source": [
    "f = partial(func.gsea_andes, ranked_list=ranked_list, matrix=S, \n",
    "            term2indices=GO2indices, \n",
    "            annotated_indices=GO_all_indices)"
   ]
  },
  {
   "cell_type": "code",
   "execution_count": 40,
   "metadata": {
    "tags": []
   },
   "outputs": [],
   "source": [
    "geneset_terms = ['GO:0071466', 'GO:0006805', 'GO:0009410']"
   ]
  },
  {
   "cell_type": "code",
   "execution_count": 50,
   "metadata": {
    "tags": []
   },
   "outputs": [],
   "source": [
    "f = partial(func.gsea_andes, ranked_list=ranked_list, matrix=S, \n",
    "            term2indices=GO2indices,\n",
    "            annotated_indices=GO_all_indices)\n",
    "\n",
    "zscores = [f(x)[1] for x in geneset_terms]"
   ]
  },
  {
   "cell_type": "code",
   "execution_count": 47,
   "metadata": {
    "tags": []
   },
   "outputs": [],
   "source": [
    "def get_empirical_background(i):\n",
    "    shuffled_ranked_list = expression_analysis_func.expression_data_to_ranked_list_label_shuffled(data, condition, seed=i)\n",
    "    shuffled_ranked_list = [g_node2index[y] for y in shuffled_ranked_list if y in node_list]\n",
    "    f = partial(func.gsea_andes, ranked_list=shuffled_ranked_list, \n",
    "                matrix=S, term2indices=GO2indices,\n",
    "                annotated_indices=GO_all_indices, ite=100)\n",
    "    rets = [f(x)[1] for x in geneset_terms]\n",
    "    return rets"
   ]
  },
  {
   "cell_type": "code",
   "execution_count": 48,
   "metadata": {
    "tags": []
   },
   "outputs": [],
   "source": [
    "with Pool(10) as p:\n",
    "    rets = p.map(get_empirical_background, [i for i in range(100)])\n",
    "background_scores = np.array(rets)"
   ]
  },
  {
   "cell_type": "code",
   "execution_count": 51,
   "metadata": {
    "tags": []
   },
   "outputs": [
    {
     "ename": "ValueError",
     "evalue": "operands could not be broadcast together with shapes (3,100) (3,) ",
     "output_type": "error",
     "traceback": [
      "\u001b[0;31m---------------------------------------------------------------------------\u001b[0m",
      "\u001b[0;31mValueError\u001b[0m                                Traceback (most recent call last)",
      "Cell \u001b[0;32mIn[51], line 1\u001b[0m\n\u001b[0;32m----> 1\u001b[0m empirical_pvalue \u001b[38;5;241m=\u001b[39m \u001b[38;5;241m1\u001b[39m\u001b[38;5;241m-\u001b[39mnp\u001b[38;5;241m.\u001b[39msum(\u001b[43mbackground_scores\u001b[49m\u001b[38;5;241;43m.\u001b[39;49m\u001b[43mT\u001b[49m\u001b[43m \u001b[49m\u001b[38;5;241;43m<\u001b[39;49m\u001b[43m \u001b[49m\u001b[43mnp\u001b[49m\u001b[38;5;241;43m.\u001b[39;49m\u001b[43marray\u001b[49m\u001b[43m(\u001b[49m\u001b[43mzscores\u001b[49m\u001b[43m)\u001b[49m, axis\u001b[38;5;241m=\u001b[39m\u001b[38;5;241m1\u001b[39m)\u001b[38;5;241m/\u001b[39m\u001b[38;5;241m100\u001b[39m\n",
      "\u001b[0;31mValueError\u001b[0m: operands could not be broadcast together with shapes (3,100) (3,) "
     ]
    }
   ],
   "source": [
    "empirical_pvalue = 1-np.sum(background_scores.T < np.array(zscores), axis=1)/100"
   ]
  },
  {
   "cell_type": "code",
   "execution_count": null,
   "metadata": {},
   "outputs": [],
   "source": []
  }
 ],
 "metadata": {
  "kernelspec": {
   "display_name": "Python 3 (ipykernel)",
   "language": "python",
   "name": "python3"
  },
  "language_info": {
   "codemirror_mode": {
    "name": "ipython",
    "version": 3
   },
   "file_extension": ".py",
   "mimetype": "text/x-python",
   "name": "python",
   "nbconvert_exporter": "python",
   "pygments_lexer": "ipython3",
   "version": "3.8.16"
  }
 },
 "nbformat": 4,
 "nbformat_minor": 4
}
